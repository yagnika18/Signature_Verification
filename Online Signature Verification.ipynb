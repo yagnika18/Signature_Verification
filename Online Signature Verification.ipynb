{
 "cells": [
  {
   "cell_type": "code",
   "execution_count": 1,
   "metadata": {
    "collapsed": true
   },
   "outputs": [],
   "source": [
    "import tensorflow as tf\n",
    "import numpy as np\n",
    "import os\n",
    "import matplotlib.image as mpimg\n",
    "import cv2\n",
    "from CNNsig import sigGF, sigG\n",
    "from batch_wrapper import batch_dataset\n",
    "from collections import defaultdict\n",
    "\n",
    "import matplotlib.pyplot as plt\n",
    "import pandas as pd\n",
    "from mpl_toolkits.mplot3d import Axes3D\n",
    "\n",
    "from sklearn.decomposition import PCA as sklearnPCA\n",
    "from sklearn.discriminant_analysis import LinearDiscriminantAnalysis as LDA\n",
    "from sklearn.datasets.samples_generator import make_blobs\n",
    "\n",
    "from pandas.tools.plotting import parallel_coordinates\n",
    "from data_preprocessing import print_arr"
   ]
  },
  {
   "cell_type": "code",
   "execution_count": 2,
   "metadata": {
    "collapsed": true
   },
   "outputs": [],
   "source": [
    "DATA_DIR = './data/'"
   ]
  },
  {
   "cell_type": "code",
   "execution_count": null,
   "metadata": {
    "collapsed": true
   },
   "outputs": [],
   "source": [
    "def nested_dict(n, type):\n",
    "    if n == 1:\n",
    "        return defaultdict(type)\n",
    "    else:\n",
    "        return defaultdict(lambda: nested_dict(n-1, type))"
   ]
  },
  {
   "cell_type": "code",
   "execution_count": 34,
   "metadata": {
    "collapsed": true
   },
   "outputs": [],
   "source": [
    "def make_user_image(directory):\n",
    "    \n",
    "    imgs = nested_dict(2, np.array) # 3 dimension\n",
    "    files = [f for f in os.listdir(directory)]\n",
    "    for f in files:\n",
    "        fs = f.split(\"_\")\n",
    "        img = cv2.imread(directory+f)\n",
    "        uid = int(fs[1][1:]) # user id\n",
    "        iid = int(fs[2]) # image id\n",
    "        sid = int(fs[3])\n",
    "        t = int(fs[4][:-4])\n",
    "        if sid == 0:\n",
    "            img_ = img\n",
    "            ts = t\n",
    "        else:\n",
    "            img_ += img\n",
    "            ts += t\n",
    "        \n",
    "        imgs[uid][iid] = np.array([img_, ts])\n",
    "    return imgs"
   ]
  },
  {
   "cell_type": "code",
   "execution_count": 35,
   "metadata": {
    "collapsed": true
   },
   "outputs": [],
   "source": [
    "images = make_user_image(DATA_DIR)"
   ]
  },
  {
   "cell_type": "code",
   "execution_count": 42,
   "metadata": {},
   "outputs": [
    {
     "data": {
      "image/png": "[encoded data removed]",
      "text/plain": [
       "<matplotlib.figure.Figure at 0x1e215953908>"
      ]
     },
     "metadata": {},
     "output_type": "display_data"
    }
   ],
   "source": [
    "print_arr(images[1][15][0])"
   ]
  },
  {
   "cell_type": "code",
   "execution_count": 77,
   "metadata": {
    "collapsed": true
   },
   "outputs": [],
   "source": [
    "imgs = []; uids=[]; is_fs=[];\n",
    "for u in images.keys():\n",
    "    image = images[u]\n",
    "    for i in image.keys():\n",
    "        imgs.append(image[i][0])\n",
    "        uids.append(u-1)\n",
    "        if i < 21:\n",
    "            is_fs.append(0)\n",
    "        else:\n",
    "            is_fs.append(1)\n",
    "\n",
    "imgs = np.array(imgs)\n",
    "uids = np.array(uids)\n",
    "is_fs = np.array(is_fs)"
   ]
  },
  {
   "cell_type": "markdown",
   "metadata": {},
   "source": [
    "Training Model Setting"
   ]
  },
  {
   "cell_type": "code",
   "execution_count": 78,
   "metadata": {},
   "outputs": [
    {
     "name": "stdout",
     "output_type": "stream",
     "text": [
      "The shape of image:  (350, 470, 3)\n",
      "The number of persons:  40\n"
     ]
    }
   ],
   "source": [
    "img_shape = imgs[0].shape\n",
    "num_person = len(np.unique(uids))\n",
    "print (\"The shape of image: \", img_shape)\n",
    "print (\"The number of persons: \", num_person)"
   ]
  },
  {
   "cell_type": "code",
   "execution_count": 79,
   "metadata": {
    "collapsed": true
   },
   "outputs": [],
   "source": [
    "Y_uid = np.eye(num_person)[uids]\n",
    "Y_isF = np.eye(2)[is_fs.astype(np.uint8)]\n",
    "\n",
    "# Shuffle input and output data\n",
    "# idx = np.arange(len(imgs))\n",
    "# np.random.shuffle(idx)\n",
    "# shuffled_X = np.array(imgs[idx])\n",
    "# shuffled_Y_M = np.array(Y_uid[idx])\n",
    "# shuffled_Y_D = np.array(Y_isF[idx])"
   ]
  },
  {
   "cell_type": "code",
   "execution_count": 80,
   "metadata": {
    "collapsed": true
   },
   "outputs": [],
   "source": [
    "GF_model = sigGF(img_shape, num_person)"
   ]
  },
  {
   "cell_type": "code",
   "execution_count": 84,
   "metadata": {},
   "outputs": [
    {
     "name": "stdout",
     "output_type": "stream",
     "text": [
      "batch num = 53\n"
     ]
    }
   ],
   "source": [
    "init = tf.global_variables_initializer()\n",
    "sess = tf.Session()\n",
    "sess.run(init)\n",
    "\n",
    "batch_size = 30\n",
    "total_batch = int(len(imgs) / batch_size)\n",
    "print (\"batch num = %d\" % total_batch)"
   ]
  },
  {
   "cell_type": "code",
   "execution_count": 85,
   "metadata": {
    "collapsed": true
   },
   "outputs": [],
   "source": [
    "batch_X = batch_dataset(imgs, batch_size)\n",
    "batch_Y_M = batch_dataset(Y_uid, batch_size)\n",
    "batch_Y_D = batch_dataset(Y_isF, batch_size)"
   ]
  },
  {
   "cell_type": "code",
   "execution_count": 86,
   "metadata": {},
   "outputs": [
    {
     "name": "stdout",
     "output_type": "stream",
     "text": [
      "Epoch: 0001 Avg. cost_M = 5.055 Avg. cost_D = 1.200\n",
      "Epoch: 0002 Avg. cost_M = 3.691 Avg. cost_D = 0.693\n",
      "Epoch: 0003 Avg. cost_M = 3.691 Avg. cost_D = 0.693\n",
      "Epoch: 0004 Avg. cost_M = 3.691 Avg. cost_D = 0.693\n",
      "Epoch: 0005 Avg. cost_M = 3.691 Avg. cost_D = 0.693\n",
      "Epoch: 0006 Avg. cost_M = 3.691 Avg. cost_D = 0.693\n",
      "Epoch: 0007 Avg. cost_M = 3.691 Avg. cost_D = 0.693\n",
      "Epoch: 0008 Avg. cost_M = 3.691 Avg. cost_D = 0.693\n",
      "Epoch: 0009 Avg. cost_M = 3.691 Avg. cost_D = 0.693\n",
      "Epoch: 0010 Avg. cost_M = 3.691 Avg. cost_D = 0.693\n",
      "최적화 완료!\n"
     ]
    }
   ],
   "source": [
    "for epoch in range(10):\n",
    "    total_cost_M = 0\n",
    "    total_cost_D = 0\n",
    "    \n",
    "    for i in range(total_batch):\n",
    "        batch_x = batch_X.next_batch()\n",
    "        batch_y_m = batch_Y_M.next_batch()\n",
    "        batch_y_d = batch_Y_D.next_batch()\n",
    "        _, cost_M_val,cost_D_val = GF_model.train(sess, batch_x, batch_y_m, batch_y_d)\n",
    "        total_cost_M += cost_M_val\n",
    "        total_cost_D += cost_D_val\n",
    "    print('Epoch:', '%04d' % (epoch + 1),\n",
    "          'Avg. cost_M =', '{:.3f}'.format(total_cost_M / total_batch),\n",
    "          'Avg. cost_D =', '{:.3f}'.format(total_cost_D / total_batch))\n",
    "\n",
    "print('최적화 완료!')"
   ]
  },
  {
   "cell_type": "code",
   "execution_count": 87,
   "metadata": {},
   "outputs": [
    {
     "data": {
      "text/plain": [
       "'./save/train_withF_nontrainable-11'"
      ]
     },
     "execution_count": 87,
     "metadata": {},
     "output_type": "execute_result"
    }
   ],
   "source": [
    "GF_model.saver.save(sess, \"./save/train_withF_nontrainable\",11)"
   ]
  },
  {
   "cell_type": "markdown",
   "metadata": {},
   "source": [
    "Save features from the last layers from CNN"
   ]
  },
  {
   "cell_type": "code",
   "execution_count": 3,
   "metadata": {},
   "outputs": [
    {
     "name": "stdout",
     "output_type": "stream",
     "text": [
      "INFO:tensorflow:Restoring parameters from ./save/train_withF_nontrainable-11\n"
     ]
    }
   ],
   "source": [
    "init = tf.global_variables_initializer()\n",
    "sess = tf.Session()\n",
    "sess.run(init)\n",
    "\n",
    "img_shape = (350, 470, 3)\n",
    "num_person = 40\n",
    "GF_model = sigGF(img_shape, num_person)\n",
    "GF_model.saver.restore(sess, \"./save/train_withF_nontrainable-11\")"
   ]
  },
  {
   "cell_type": "code",
   "execution_count": 100,
   "metadata": {
    "collapsed": true
   },
   "outputs": [],
   "source": [
    "encoded_X = GF_model.get_feature(sess, imgs[:1])"
   ]
  },
  {
   "cell_type": "code",
   "execution_count": 4,
   "metadata": {},
   "outputs": [],
   "source": [
    "def load_image_details(directory):\n",
    "    files = [f for f in os.listdir(directory)]\n",
    "    imgs=[]; uids=[]; is_fs=[]; sids=[]; ts=[]; features = [];\n",
    "    for f in files:\n",
    "        fs = f.split(\"_\")\n",
    "        img = cv2.imread(directory+f)\n",
    "        uid = int(fs[1][1:])-1 # user id\n",
    "        iid = int(fs[2])-1 # image id\n",
    "        sid = int(fs[3])\n",
    "        t = int(fs[4][:-4])\n",
    "        \n",
    "        imgs.append(img); uids.append(uid);\n",
    "        if iid < 21: is_fs.append(0)\n",
    "        else:        is_fs.append(1)\n",
    "        ts.append(t); sids.append(sid)\n",
    "        features.append(GF_model.get_feature(sess, img.reshape(1, 350, 470, 3)))\n",
    "        \n",
    "    return np.array(imgs), np.array(uids), np.array(is_fs), \\\n",
    "        np.array(sids), np.array(ts), np.array(features)\n",
    "\n",
    "imgs, uids, is_fs, sids, ts, features = load_image_details(DATA_DIR)"
   ]
  },
  {
   "cell_type": "markdown",
   "metadata": {},
   "source": [
    "# RNN Part"
   ]
  },
  {
   "cell_type": "code",
   "execution_count": 466,
   "metadata": {},
   "outputs": [
    {
     "name": "stdout",
     "output_type": "stream",
     "text": [
      "The maximum of strokes:  1\n",
      "The maximum of strokes:  18\n"
     ]
    }
   ],
   "source": [
    "cnt = 0\n",
    "cnts = list()\n",
    "for sid in sids:\n",
    "    if sid == 0:\n",
    "        cnts.append(cnt)\n",
    "        cnt = 0\n",
    "    cnt += 1\n",
    "cnts.append(cnt)\n",
    "cnts = cnts[1:]\n",
    "print (\"The maximum of strokes: \", min(cnts))\n",
    "print (\"The maximum of strokes: \", max(cnts))"
   ]
  },
  {
   "cell_type": "code",
   "execution_count": 493,
   "metadata": {},
   "outputs": [],
   "source": [
    "super_features = []\n",
    "super_uids = []\n",
    "idx = 0\n",
    "for cnt in cnts:\n",
    "    super_features.append(features[idx: idx+cnt].reshape(cnt,256))\n",
    "    super_uids.append(uids[idx: idx+cnt].reshape(cnt,))\n",
    "    idx += cnt\n",
    "super_features = np.array(super_features)\n",
    "super_uids = np.array(super_uids)\n",
    "super_cnts = np.array(cnts)"
   ]
  },
  {
   "cell_type": "code",
   "execution_count": 494,
   "metadata": {},
   "outputs": [],
   "source": [
    "# Shuffling \n",
    "idx = np.arange(len(super_features))\n",
    "np.random.seed(0)\n",
    "np.random.shuffle(idx)\n",
    "shuffled_features = np.array(super_features[idx])\n",
    "shuffled_uids = np.array(super_uids[idx])\n",
    "shuffled_cnts = np.array(super_cnts[idx])"
   ]
  },
  {
   "cell_type": "code",
   "execution_count": 471,
   "metadata": {
    "collapsed": true
   },
   "outputs": [],
   "source": [
    "max_step = 18\n",
    "n_input = 256\n",
    "n_hidden = 256\n",
    "n_class = 40\n",
    "batch_size = 32"
   ]
  },
  {
   "cell_type": "code",
   "execution_count": 472,
   "metadata": {
    "collapsed": true
   },
   "outputs": [],
   "source": [
    "tf.reset_default_graph()"
   ]
  },
  {
   "cell_type": "code",
   "execution_count": 473,
   "metadata": {},
   "outputs": [],
   "source": [
    "X = tf.placeholder(tf.float32, [None, None, n_input])\n",
    "seq_len = tf.placeholder(tf.int32, [None])\n",
    "Y = tf.placeholder(tf.int32, [None])\n",
    "\n",
    "W = tf.Variable(tf.random_normal([n_hidden, n_class]))\n",
    "b = tf.Variable(tf.random_normal([n_class]))"
   ]
  },
  {
   "cell_type": "code",
   "execution_count": 474,
   "metadata": {},
   "outputs": [],
   "source": [
    "cell = tf.nn.rnn_cell.BasicLSTMCell(n_hidden)\n",
    "outputs, states = tf.nn.dynamic_rnn(cell, X, dtype=tf.float32, sequence_length=seq_len)\n",
    "\n",
    "outputs = tf.transpose(outputs, [1, 0, 2])\n",
    "outputs = outputs[-1]\n",
    "\n",
    "model = tf.matmul(outputs, W) + b\n",
    "preds = tf.nn.softmax(model)"
   ]
  },
  {
   "cell_type": "code",
   "execution_count": 475,
   "metadata": {},
   "outputs": [],
   "source": [
    "is_correct = tf.equal(tf.cast(tf.argmax(preds, 1), tf.int32), Y)\n",
    "accuracy = tf.reduce_mean(tf.cast(is_correct, tf.float32))"
   ]
  },
  {
   "cell_type": "code",
   "execution_count": 476,
   "metadata": {
    "collapsed": true
   },
   "outputs": [],
   "source": [
    "cost = tf.reduce_mean(tf.nn.sparse_softmax_cross_entropy_with_logits(logits=model, labels=Y))\n",
    "optimizer = tf.train.AdamOptimizer(0.0001).minimize(cost)"
   ]
  },
  {
   "cell_type": "code",
   "execution_count": 477,
   "metadata": {
    "collapsed": true
   },
   "outputs": [],
   "source": [
    "sess = tf.Session()\n",
    "sess.run(tf.global_variables_initializer())        "
   ]
  },
  {
   "cell_type": "code",
   "execution_count": 508,
   "metadata": {
    "collapsed": true
   },
   "outputs": [],
   "source": [
    "class batch_dataset:\n",
    "    def __init__(self, xs, ys):\n",
    "        self.xs = xs\n",
    "        self.ys = ys\n",
    "        self.cnt_idx = 0\n",
    "    \n",
    "    def next_batch(self, cnt, batch_size):\n",
    "        batch_xs = []; batch_ys = [];\n",
    "        for i in range(self.cnt_idx, self.cnt_idx + batch_size):\n",
    "            batch_xs.append(self.xs[i])\n",
    "            batch_ys.append(self.ys[i][0])\n",
    "        self.cnt_idx += batch_size\n",
    "        return np.array(batch_xs), np.array(batch_ys)"
   ]
  },
  {
   "cell_type": "code",
   "execution_count": 509,
   "metadata": {},
   "outputs": [
    {
     "name": "stdout",
     "output_type": "stream",
     "text": [
      "Epoch:  0001 Average cost =  3.700\n",
      "Epoch:  0002 Average cost =  3.133\n",
      "Epoch:  0003 Average cost =  2.919\n",
      "Epoch:  0004 Average cost =  2.763\n",
      "Epoch:  0005 Average cost =  2.628\n",
      "Epoch:  0006 Average cost =  2.505\n",
      "Epoch:  0007 Average cost =  2.391\n",
      "Epoch:  0008 Average cost =  2.279\n",
      "Epoch:  0009 Average cost =  2.163\n",
      "Epoch:  0010 Average cost =  2.034\n"
     ]
    }
   ],
   "source": [
    "batch_size = 32\n",
    "total_batch = int(len(cnts) / batch_size)\n",
    "\n",
    "for epoch in range(10):\n",
    "    total_cost = 0\n",
    "    \n",
    "    batcher = batch_dataset(shuffled_features, shuffled_uids)\n",
    "    for cnt in shuffled_cnts:\n",
    "        xs, ys = batcher.next_batch(cnt, 1)\n",
    "        lens = np.array([cnt])\n",
    "\n",
    "        feed = {seq_len: lens, X: xs, Y: ys}\n",
    "        _, cost_val = sess.run([optimizer, cost], feed)\n",
    "        total_cost += cost_val\n",
    "    \n",
    "    print (\"Epoch: \", \"%04d\" % (epoch+1),\n",
    "           \"Average cost = \", \"{:.3f}\".format(total_cost / len(shuffled_cnts)))"
   ]
  },
  {
   "cell_type": "code",
   "execution_count": 510,
   "metadata": {},
   "outputs": [
    {
     "data": {
      "text/plain": [
       "'./save/rnn_part-11'"
      ]
     },
     "execution_count": 510,
     "metadata": {},
     "output_type": "execute_result"
    }
   ],
   "source": [
    "saver = tf.train.Saver(tf.global_variables())\n",
    "saver.save(sess, \"./save/rnn_part\", 11)"
   ]
  },
  {
   "cell_type": "code",
   "execution_count": 517,
   "metadata": {},
   "outputs": [
    {
     "name": "stdout",
     "output_type": "stream",
     "text": [
      "0.418\n"
     ]
    }
   ],
   "source": [
    "batcher = batch_dataset(features, uids)\n",
    "t_val = 0\n",
    "\n",
    "batcher = batch_dataset(shuffled_features, shuffled_uids)\n",
    "for cnt in shuffled_cnts[:500]:\n",
    "    xs, ys = batcher.next_batch(cnt, 1)\n",
    "    lens = np.array([cnt])\n",
    "\n",
    "    is_correct = tf.equal(tf.argmax(model, 1), ys[0])\n",
    "    a = sess.run([accuracy], feed_dict={seq_len: lens, X: xs, Y: ys})\n",
    "    t_val += a[0]\n",
    "\n",
    "print (t_val / 500)"
   ]
  },
  {
   "cell_type": "code",
   "execution_count": null,
   "metadata": {
    "collapsed": true
   },
   "outputs": [],
   "source": [
    "print (t_val)"
   ]
  }
 ],
 "metadata": {
  "anaconda-cloud": {},
  "kernelspec": {
   "display_name": "Python [conda env:tensorflow-gpu]",
   "language": "python",
   "name": "conda-env-tensorflow-gpu-py"
  },
  "language_info": {
   "codemirror_mode": {
    "name": "ipython",
    "version": 3
   },
   "file_extension": ".py",
   "mimetype": "text/x-python",
   "name": "python",
   "nbconvert_exporter": "python",
   "pygments_lexer": "ipython3",
   "version": "3.5.3"
  }
 },
 "nbformat": 4,
 "nbformat_minor": 1
}
